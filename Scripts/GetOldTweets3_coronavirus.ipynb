{
 "cells": [
  {
   "cell_type": "code",
   "execution_count": null,
   "metadata": {
    "colab": {
     "base_uri": "https://localhost:8080/",
     "height": 167
    },
    "id": "Zf84k4vIg_84",
    "outputId": "40cf52bf-76a8-446a-c272-5e38d57d589c"
   },
   "outputs": [
    {
     "name": "stdout",
     "output_type": "stream",
     "text": [
      "Collecting GetOldTweets3\n",
      "  Downloading https://files.pythonhosted.org/packages/ed/f4/a00c2a7c90801abc875325bb5416ce9090ac86d06a00cc887131bd73ba45/GetOldTweets3-0.0.11-py3-none-any.whl\n",
      "Collecting pyquery>=1.2.10\n",
      "  Downloading https://files.pythonhosted.org/packages/78/43/95d42e386c61cb639d1a0b94f0c0b9f0b7d6b981ad3c043a836c8b5bc68b/pyquery-1.4.1-py2.py3-none-any.whl\n",
      "Requirement already satisfied: lxml>=3.5.0 in /usr/local/lib/python3.6/dist-packages (from GetOldTweets3) (4.2.6)\n",
      "Collecting cssselect>0.7.9\n",
      "  Downloading https://files.pythonhosted.org/packages/3b/d4/3b5c17f00cce85b9a1e6f91096e1cc8e8ede2e1be8e96b87ce1ed09e92c5/cssselect-1.1.0-py2.py3-none-any.whl\n",
      "Installing collected packages: cssselect, pyquery, GetOldTweets3\n",
      "Successfully installed GetOldTweets3-0.0.11 cssselect-1.1.0 pyquery-1.4.1\n"
     ]
    }
   ],
   "source": [
    "!pip install GetOldTweets3"
   ]
  },
  {
   "cell_type": "code",
   "execution_count": null,
   "metadata": {
    "id": "puP8EkMTg16w"
   },
   "outputs": [],
   "source": [
    "import GetOldTweets3 as got"
   ]
  },
  {
   "cell_type": "code",
   "execution_count": null,
   "metadata": {
    "id": "LDJRT5Ecmr_f"
   },
   "outputs": [],
   "source": [
    "import pandas as pd"
   ]
  },
  {
   "cell_type": "code",
   "execution_count": null,
   "metadata": {
    "id": "0bb9qBFXe6Y7"
   },
   "outputs": [],
   "source": [
    "import time\n",
    "\n",
    "def download_tweets(search_word):\n",
    "    print(f\"Dowloading for {search_word}\")\n",
    "    tweetCriteria = got.manager.TweetCriteria().setQuerySearch(search_word)\\\n",
    "                                            .setSince(\"2020-01-21\")\\\n",
    "                                            .setUntil(\"2020-01-22\")\\\n",
    "                                            .setMaxTweets(99999999999999999)\n",
    "    tweets = got.manager.TweetManager.getTweets(tweetCriteria)\n",
    "    df = pd.DataFrame([tweet.__dict__ for tweet in tweets])\n",
    "    print(df.shape)\n",
    "    df.to_csv(\"data_tweets_nov_19_{}_jan_part_20-22_{}.csv\".format(search_word, time.strftime('%a%H%M%S')))"
   ]
  },
  {
   "cell_type": "code",
   "execution_count": null,
   "metadata": {
    "id": "GvvKgWume6ZA"
   },
   "outputs": [],
   "source": [
    "search_words = ['coronavirus', 'covid', 'lockdown', 'lockeddown']"
   ]
  },
  {
   "cell_type": "code",
   "execution_count": null,
   "metadata": {
    "id": "KdRN5L-oe6ZE"
   },
   "outputs": [],
   "source": [
    "for search_word in search_words:\n",
    "    download_tweets(search_word)"
   ]
  },
  {
   "cell_type": "code",
   "execution_count": null,
   "metadata": {
    "id": "-iCD8MsZe6ZI"
   },
   "outputs": [],
   "source": [
    "import datetime"
   ]
  },
  {
   "cell_type": "code",
   "execution_count": null,
   "metadata": {
    "id": "kYnOI1I5e6ZN",
    "outputId": "c696cb93-ef78-4eb0-d456-a47d8737088a"
   },
   "outputs": [
    {
     "data": {
      "text/plain": [
       "datetime.datetime(2020, 7, 4, 19, 15, 52, 805842)"
      ]
     },
     "execution_count": 33,
     "metadata": {
      "tags": []
     },
     "output_type": "execute_result"
    }
   ],
   "source": [
    "datetime.datetime.now()"
   ]
  },
  {
   "cell_type": "code",
   "execution_count": null,
   "metadata": {
    "id": "v7GUYDkFe6ZR",
    "outputId": "65a4bd9b-08ee-4e7a-9717-991339ee7d54"
   },
   "outputs": [
    {
     "data": {
      "text/plain": [
       "'Sat191805'"
      ]
     },
     "execution_count": 38,
     "metadata": {
      "tags": []
     },
     "output_type": "execute_result"
    }
   ],
   "source": []
  },
  {
   "cell_type": "code",
   "execution_count": null,
   "metadata": {
    "id": "3x6wUV8ue6ZV"
   },
   "outputs": [],
   "source": []
  }
 ],
 "metadata": {
  "colab": {
   "collapsed_sections": [],
   "name": "GetOldTweets3_coronavisurs.ipynb",
   "provenance": []
  },
  "kernelspec": {
   "display_name": "Python 3",
   "language": "python",
   "name": "python3"
  },
  "language_info": {
   "codemirror_mode": {
    "name": "ipython",
    "version": 3
   },
   "file_extension": ".py",
   "mimetype": "text/x-python",
   "name": "python",
   "nbconvert_exporter": "python",
   "pygments_lexer": "ipython3",
   "version": "3.8.8"
  }
 },
 "nbformat": 4,
 "nbformat_minor": 4
}
